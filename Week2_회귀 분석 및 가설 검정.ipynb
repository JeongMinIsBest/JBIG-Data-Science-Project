{
  "cells": [
    {
      "cell_type": "markdown",
      "metadata": {},
      "source": [
        "# TrenD 1주차 - 회귀 분석 / 가설 검정"
      ]
    },
    {
      "cell_type": "markdown",
      "metadata": {},
      "source": [
        "- Stasmodels : 통계 및 회귀 분석용 라이브러리\n",
        "- mtcars : 자동차 성능 데이터(마력, 연비, 기통 수, 무게 등의 정보 포함)"
      ]
    },
    {
      "cell_type": "code",
      "execution_count": 2,
      "metadata": {
        "colab": {
          "base_uri": "https://localhost:8080/",
          "height": 237
        },
        "id": "_4hZ4iWddDjd",
        "outputId": "b7a1cd95-daf9-423e-ff83-113843228279"
      },
      "outputs": [
        {
          "data": {
            "text/html": [
              "<div>\n",
              "<style scoped>\n",
              "    .dataframe tbody tr th:only-of-type {\n",
              "        vertical-align: middle;\n",
              "    }\n",
              "\n",
              "    .dataframe tbody tr th {\n",
              "        vertical-align: top;\n",
              "    }\n",
              "\n",
              "    .dataframe thead th {\n",
              "        text-align: right;\n",
              "    }\n",
              "</style>\n",
              "<table border=\"1\" class=\"dataframe\">\n",
              "  <thead>\n",
              "    <tr style=\"text-align: right;\">\n",
              "      <th></th>\n",
              "      <th>mpg</th>\n",
              "      <th>cyl</th>\n",
              "      <th>disp</th>\n",
              "      <th>hp</th>\n",
              "      <th>drat</th>\n",
              "      <th>wt</th>\n",
              "      <th>qsec</th>\n",
              "      <th>vs</th>\n",
              "      <th>am</th>\n",
              "      <th>gear</th>\n",
              "      <th>carb</th>\n",
              "    </tr>\n",
              "    <tr>\n",
              "      <th>rownames</th>\n",
              "      <th></th>\n",
              "      <th></th>\n",
              "      <th></th>\n",
              "      <th></th>\n",
              "      <th></th>\n",
              "      <th></th>\n",
              "      <th></th>\n",
              "      <th></th>\n",
              "      <th></th>\n",
              "      <th></th>\n",
              "      <th></th>\n",
              "    </tr>\n",
              "  </thead>\n",
              "  <tbody>\n",
              "    <tr>\n",
              "      <th>Mazda RX4</th>\n",
              "      <td>21.0</td>\n",
              "      <td>6</td>\n",
              "      <td>160.0</td>\n",
              "      <td>110</td>\n",
              "      <td>3.90</td>\n",
              "      <td>2.620</td>\n",
              "      <td>16.46</td>\n",
              "      <td>0</td>\n",
              "      <td>1</td>\n",
              "      <td>4</td>\n",
              "      <td>4</td>\n",
              "    </tr>\n",
              "    <tr>\n",
              "      <th>Mazda RX4 Wag</th>\n",
              "      <td>21.0</td>\n",
              "      <td>6</td>\n",
              "      <td>160.0</td>\n",
              "      <td>110</td>\n",
              "      <td>3.90</td>\n",
              "      <td>2.875</td>\n",
              "      <td>17.02</td>\n",
              "      <td>0</td>\n",
              "      <td>1</td>\n",
              "      <td>4</td>\n",
              "      <td>4</td>\n",
              "    </tr>\n",
              "    <tr>\n",
              "      <th>Datsun 710</th>\n",
              "      <td>22.8</td>\n",
              "      <td>4</td>\n",
              "      <td>108.0</td>\n",
              "      <td>93</td>\n",
              "      <td>3.85</td>\n",
              "      <td>2.320</td>\n",
              "      <td>18.61</td>\n",
              "      <td>1</td>\n",
              "      <td>1</td>\n",
              "      <td>4</td>\n",
              "      <td>1</td>\n",
              "    </tr>\n",
              "    <tr>\n",
              "      <th>Hornet 4 Drive</th>\n",
              "      <td>21.4</td>\n",
              "      <td>6</td>\n",
              "      <td>258.0</td>\n",
              "      <td>110</td>\n",
              "      <td>3.08</td>\n",
              "      <td>3.215</td>\n",
              "      <td>19.44</td>\n",
              "      <td>1</td>\n",
              "      <td>0</td>\n",
              "      <td>3</td>\n",
              "      <td>1</td>\n",
              "    </tr>\n",
              "    <tr>\n",
              "      <th>Hornet Sportabout</th>\n",
              "      <td>18.7</td>\n",
              "      <td>8</td>\n",
              "      <td>360.0</td>\n",
              "      <td>175</td>\n",
              "      <td>3.15</td>\n",
              "      <td>3.440</td>\n",
              "      <td>17.02</td>\n",
              "      <td>0</td>\n",
              "      <td>0</td>\n",
              "      <td>3</td>\n",
              "      <td>2</td>\n",
              "    </tr>\n",
              "  </tbody>\n",
              "</table>\n",
              "</div>"
            ],
            "text/plain": [
              "                    mpg  cyl   disp   hp  drat     wt   qsec  vs  am  gear  \\\n",
              "rownames                                                                     \n",
              "Mazda RX4          21.0    6  160.0  110  3.90  2.620  16.46   0   1     4   \n",
              "Mazda RX4 Wag      21.0    6  160.0  110  3.90  2.875  17.02   0   1     4   \n",
              "Datsun 710         22.8    4  108.0   93  3.85  2.320  18.61   1   1     4   \n",
              "Hornet 4 Drive     21.4    6  258.0  110  3.08  3.215  19.44   1   0     3   \n",
              "Hornet Sportabout  18.7    8  360.0  175  3.15  3.440  17.02   0   0     3   \n",
              "\n",
              "                   carb  \n",
              "rownames                 \n",
              "Mazda RX4             4  \n",
              "Mazda RX4 Wag         4  \n",
              "Datsun 710            1  \n",
              "Hornet 4 Drive        1  \n",
              "Hornet Sportabout     2  "
            ]
          },
          "execution_count": 2,
          "metadata": {},
          "output_type": "execute_result"
        }
      ],
      "source": [
        "import statsmodels.api as sm\n",
        "\n",
        "# mtcars 데이터 불러오기\n",
        "df = sm.datasets.get_rdataset(\"mtcars\", \"datasets\").data\n",
        "df.head()"
      ]
    },
    {
      "cell_type": "markdown",
      "metadata": {},
      "source": [
        "- mpg : 연비(Miles per gallon)\n",
        "- cyl : 실린더 수\n",
        "- disp : 배기량\n",
        "- hp : 마력(Horsepower)\n",
        "- drat : 후륜 기어비\n",
        "- wt : 차량 무게\n",
        "- qsec : 1/4마일 주파 시간\n",
        "- vs : 엔진 형태(0 = 자동, 1 = 수동)\n",
        "- am : 변속기 종류(0 = 자동, 1 = 수동)\n",
        "- gear : 전진 기어 수\n",
        "- carb : 카뷰레터 수"
      ]
    },
    {
      "cell_type": "code",
      "execution_count": 3,
      "metadata": {
        "colab": {
          "base_uri": "https://localhost:8080/",
          "height": 444
        },
        "id": "8hLjP9OKxpRe",
        "outputId": "ba0fa3ce-1f71-4bff-f300-adc55891db1c"
      },
      "outputs": [
        {
          "data": {
            "text/html": [
              "<table class=\"simpletable\">\n",
              "<caption>OLS Regression Results</caption>\n",
              "<tr>\n",
              "  <th>Dep. Variable:</th>           <td>mpg</td>       <th>  R-squared:         </th> <td>   0.602</td>\n",
              "</tr>\n",
              "<tr>\n",
              "  <th>Model:</th>                   <td>OLS</td>       <th>  Adj. R-squared:    </th> <td>   0.589</td>\n",
              "</tr>\n",
              "<tr>\n",
              "  <th>Method:</th>             <td>Least Squares</td>  <th>  F-statistic:       </th> <td>   45.46</td>\n",
              "</tr>\n",
              "<tr>\n",
              "  <th>Date:</th>             <td>Thu, 10 Apr 2025</td> <th>  Prob (F-statistic):</th> <td>1.79e-07</td>\n",
              "</tr>\n",
              "<tr>\n",
              "  <th>Time:</th>                 <td>17:08:59</td>     <th>  Log-Likelihood:    </th> <td> -87.619</td>\n",
              "</tr>\n",
              "<tr>\n",
              "  <th>No. Observations:</th>      <td>    32</td>      <th>  AIC:               </th> <td>   179.2</td>\n",
              "</tr>\n",
              "<tr>\n",
              "  <th>Df Residuals:</th>          <td>    30</td>      <th>  BIC:               </th> <td>   182.2</td>\n",
              "</tr>\n",
              "<tr>\n",
              "  <th>Df Model:</th>              <td>     1</td>      <th>                     </th>     <td> </td>   \n",
              "</tr>\n",
              "<tr>\n",
              "  <th>Covariance Type:</th>      <td>nonrobust</td>    <th>                     </th>     <td> </td>   \n",
              "</tr>\n",
              "</table>\n",
              "<table class=\"simpletable\">\n",
              "<tr>\n",
              "    <td></td>       <th>coef</th>     <th>std err</th>      <th>t</th>      <th>P>|t|</th>  <th>[0.025</th>    <th>0.975]</th>  \n",
              "</tr>\n",
              "<tr>\n",
              "  <th>const</th> <td>   30.0989</td> <td>    1.634</td> <td>   18.421</td> <td> 0.000</td> <td>   26.762</td> <td>   33.436</td>\n",
              "</tr>\n",
              "<tr>\n",
              "  <th>hp</th>    <td>   -0.0682</td> <td>    0.010</td> <td>   -6.742</td> <td> 0.000</td> <td>   -0.089</td> <td>   -0.048</td>\n",
              "</tr>\n",
              "</table>\n",
              "<table class=\"simpletable\">\n",
              "<tr>\n",
              "  <th>Omnibus:</th>       <td> 3.692</td> <th>  Durbin-Watson:     </th> <td>   1.134</td>\n",
              "</tr>\n",
              "<tr>\n",
              "  <th>Prob(Omnibus):</th> <td> 0.158</td> <th>  Jarque-Bera (JB):  </th> <td>   2.984</td>\n",
              "</tr>\n",
              "<tr>\n",
              "  <th>Skew:</th>          <td> 0.747</td> <th>  Prob(JB):          </th> <td>   0.225</td>\n",
              "</tr>\n",
              "<tr>\n",
              "  <th>Kurtosis:</th>      <td> 2.935</td> <th>  Cond. No.          </th> <td>    386.</td>\n",
              "</tr>\n",
              "</table><br/><br/>Notes:<br/>[1] Standard Errors assume that the covariance matrix of the errors is correctly specified."
            ],
            "text/latex": [
              "\\begin{center}\n",
              "\\begin{tabular}{lclc}\n",
              "\\toprule\n",
              "\\textbf{Dep. Variable:}    &       mpg        & \\textbf{  R-squared:         } &     0.602   \\\\\n",
              "\\textbf{Model:}            &       OLS        & \\textbf{  Adj. R-squared:    } &     0.589   \\\\\n",
              "\\textbf{Method:}           &  Least Squares   & \\textbf{  F-statistic:       } &     45.46   \\\\\n",
              "\\textbf{Date:}             & Thu, 10 Apr 2025 & \\textbf{  Prob (F-statistic):} &  1.79e-07   \\\\\n",
              "\\textbf{Time:}             &     17:08:59     & \\textbf{  Log-Likelihood:    } &   -87.619   \\\\\n",
              "\\textbf{No. Observations:} &          32      & \\textbf{  AIC:               } &     179.2   \\\\\n",
              "\\textbf{Df Residuals:}     &          30      & \\textbf{  BIC:               } &     182.2   \\\\\n",
              "\\textbf{Df Model:}         &           1      & \\textbf{                     } &             \\\\\n",
              "\\textbf{Covariance Type:}  &    nonrobust     & \\textbf{                     } &             \\\\\n",
              "\\bottomrule\n",
              "\\end{tabular}\n",
              "\\begin{tabular}{lcccccc}\n",
              "               & \\textbf{coef} & \\textbf{std err} & \\textbf{t} & \\textbf{P$> |$t$|$} & \\textbf{[0.025} & \\textbf{0.975]}  \\\\\n",
              "\\midrule\n",
              "\\textbf{const} &      30.0989  &        1.634     &    18.421  &         0.000        &       26.762    &       33.436     \\\\\n",
              "\\textbf{hp}    &      -0.0682  &        0.010     &    -6.742  &         0.000        &       -0.089    &       -0.048     \\\\\n",
              "\\bottomrule\n",
              "\\end{tabular}\n",
              "\\begin{tabular}{lclc}\n",
              "\\textbf{Omnibus:}       &  3.692 & \\textbf{  Durbin-Watson:     } &    1.134  \\\\\n",
              "\\textbf{Prob(Omnibus):} &  0.158 & \\textbf{  Jarque-Bera (JB):  } &    2.984  \\\\\n",
              "\\textbf{Skew:}          &  0.747 & \\textbf{  Prob(JB):          } &    0.225  \\\\\n",
              "\\textbf{Kurtosis:}      &  2.935 & \\textbf{  Cond. No.          } &     386.  \\\\\n",
              "\\bottomrule\n",
              "\\end{tabular}\n",
              "%\\caption{OLS Regression Results}\n",
              "\\end{center}\n",
              "\n",
              "Notes: \\newline\n",
              " [1] Standard Errors assume that the covariance matrix of the errors is correctly specified."
            ],
            "text/plain": [
              "<class 'statsmodels.iolib.summary.Summary'>\n",
              "\"\"\"\n",
              "                            OLS Regression Results                            \n",
              "==============================================================================\n",
              "Dep. Variable:                    mpg   R-squared:                       0.602\n",
              "Model:                            OLS   Adj. R-squared:                  0.589\n",
              "Method:                 Least Squares   F-statistic:                     45.46\n",
              "Date:                Thu, 10 Apr 2025   Prob (F-statistic):           1.79e-07\n",
              "Time:                        17:08:59   Log-Likelihood:                -87.619\n",
              "No. Observations:                  32   AIC:                             179.2\n",
              "Df Residuals:                      30   BIC:                             182.2\n",
              "Df Model:                           1                                         \n",
              "Covariance Type:            nonrobust                                         \n",
              "==============================================================================\n",
              "                 coef    std err          t      P>|t|      [0.025      0.975]\n",
              "------------------------------------------------------------------------------\n",
              "const         30.0989      1.634     18.421      0.000      26.762      33.436\n",
              "hp            -0.0682      0.010     -6.742      0.000      -0.089      -0.048\n",
              "==============================================================================\n",
              "Omnibus:                        3.692   Durbin-Watson:                   1.134\n",
              "Prob(Omnibus):                  0.158   Jarque-Bera (JB):                2.984\n",
              "Skew:                           0.747   Prob(JB):                        0.225\n",
              "Kurtosis:                       2.935   Cond. No.                         386.\n",
              "==============================================================================\n",
              "\n",
              "Notes:\n",
              "[1] Standard Errors assume that the covariance matrix of the errors is correctly specified.\n",
              "\"\"\""
            ]
          },
          "execution_count": 3,
          "metadata": {},
          "output_type": "execute_result"
        }
      ],
      "source": [
        "import statsmodels.api as sm\n",
        "\n",
        "# 독립변수(X)와 종속변수(y) 설정\n",
        "X = df[\"hp\"]  # 마력\n",
        "y = df[\"mpg\"]  # 연비\n",
        "\n",
        "# 상수항 추가\n",
        "X = sm.add_constant(X)\n",
        "\n",
        "# 회귀 모델 적합\n",
        "model = sm.OLS(y, X).fit()\n",
        "\n",
        "# 결과 출력\n",
        "model.summary()\n"
      ]
    },
    {
      "cell_type": "code",
      "execution_count": 4,
      "metadata": {
        "colab": {
          "base_uri": "https://localhost:8080/"
        },
        "id": "tuMtt5pcyKGD",
        "outputId": "a3b0593d-804c-4a03-cc8f-5e8296d3380e"
      },
      "outputs": [
        {
          "name": "stdout",
          "output_type": "stream",
          "text": [
            "회귀식: mpg = 30.099 + (-0.068 * hp)\n"
          ]
        }
      ],
      "source": [
        "# 회귀계수 가져오기\n",
        "intercept, coef_hp = model.params\n",
        "# 회귀식 출력\n",
        "print(f\"회귀식: mpg = {intercept:.3f} + ({coef_hp:.3f} * hp)\")"
      ]
    },
    {
      "cell_type": "markdown",
      "metadata": {
        "id": "IK7xahsq7sYD"
      },
      "source": [
        "# 1.회귀계수에 대한 검정"
      ]
    },
    {
      "cell_type": "markdown",
      "metadata": {
        "id": "su-0ZVZqYekJ"
      },
      "source": [
        "### 1.1 beta_1 : 절편값"
      ]
    },
    {
      "cell_type": "code",
      "execution_count": 12,
      "metadata": {
        "colab": {
          "base_uri": "https://localhost:8080/"
        },
        "id": "7ES6SAa87uLE",
        "outputId": "614fea31-17a3-4c3e-9d89-bfa645e2202d"
      },
      "outputs": [
        {
          "name": "stdout",
          "output_type": "stream",
          "text": [
            "\n",
            "[절편(β₀) 가설검정]\n",
            "질문: 절편(β₀)이 10인가?\n",
            "귀무가설(H₀): β₀ ≠ 10 (절편이 10이 아니다)\n",
            "대립가설(H₁): β₀ = 10 (절편이 10이다)\n",
            "\n",
            "▶ 절편(β̂₀) 추정값: 30.09886\n",
            "▶ 검정할 절편 값 (β₀): 10\n",
            "▶ 계산된 t-값: 12.30100\n",
            "▶ p-value: 0.00000\n",
            "\n",
            "p-value = 0.00000 < 0.05, 따라서 귀무가설을 기각합니다.\n",
            "즉, 절편(β₀)은 10이 아닙니다.\n"
          ]
        }
      ],
      "source": [
        "from scipy.stats import t\n",
        "\n",
        "# 가설에서 설정한 β₀ 값 (대립가설이 주장하는 값)\n",
        "beta0_1 = 10\n",
        "\n",
        "# 절편(Intercept) 계수 및 표준 오차 가져오기\n",
        "beta_intercept = model.params[\"const\"]\n",
        "std_err_intercept = model.bse[\"const\"]\n",
        "\n",
        "\n",
        "# t-검정 통계량 계산\n",
        "t_stat_intercept = (beta_intercept - beta0_1) / std_err_intercept\n",
        "\n",
        "# 자유도 계산 (회귀모형의 자유도 = 샘플 수 - 독립 변수 개수 - 1)\n",
        "df = model.df_resid\n",
        "\n",
        "# p-value 계산 (양측 검정)\n",
        "p_value_intercept = 2 * (1 - t.cdf(abs(t_stat_intercept), df))\n",
        "\n",
        "# 유의수준 설정\n",
        "alpha = 0.05\n",
        "\n",
        "# 검정 결과 출력\n",
        "print(\"\\n[절편(β₀) 가설검정]\")\n",
        "print(f\"질문: 절편(β₀)이 {beta0_1}인가?\")\n",
        "print(f\"귀무가설(H₀): β₀ ≠ {beta0_1} (절편이 {beta0_1}이 아니다)\")\n",
        "print(f\"대립가설(H₁): β₀ = {beta0_1} (절편이 {beta0_1}이다)\\n\")\n",
        "\n",
        "print(f\"▶ 절편(β̂₀) 추정값: {beta_intercept:.5f}\")\n",
        "print(f\"▶ 검정할 절편 값 (β₀): {beta0_1}\")\n",
        "print(f\"▶ 계산된 t-값: {t_stat_intercept:.5f}\")\n",
        "print(f\"▶ p-value: {p_value_intercept:.5f}\")\n",
        "\n",
        "if p_value_intercept < alpha:\n",
        "    print(f\"\\np-value = {p_value_intercept:.5f} < {alpha}, 따라서 귀무가설을 기각합니다.\")\n",
        "    print(f\"즉, 절편(β₀)은 {beta0_1}이 아닙니다.\")\n",
        "else:\n",
        "    print(f\"\\np-value = {p_value_intercept:.5f} ≥ {alpha}, 따라서 귀무가설을 기각하지 않습니다.\")\n",
        "    print(f\"즉, 절편(β₀)은 {beta0_1}과 유의하게 다르다고 볼 수 없습니다.\")\n"
      ]
    },
    {
      "cell_type": "markdown",
      "metadata": {
        "id": "KP21w3qsYi-s"
      },
      "source": [
        "### 1.2 beta_0 : 계수값"
      ]
    },
    {
      "cell_type": "markdown",
      "metadata": {
        "id": "ug9vPRzPeqP1"
      },
      "source": [
        "coef 열에서 hp의 계수(β) 값을 확인\n",
        "\n",
        "\n",
        "P 값이 0.05 미만이면 귀무가설 기각 → hp가 mpg에 유의한 영향을 미친다고 해석\n",
        "\n",
        "\n",
        "\n",
        "P 값이 0.05 이상이면 귀무가설 채택 → hp가 mpg에 유의한 영향을 미치지 않는다고 해석"
      ]
    },
    {
      "cell_type": "code",
      "execution_count": 13,
      "metadata": {
        "colab": {
          "base_uri": "https://localhost:8080/"
        },
        "id": "aWXufx18YnNI",
        "outputId": "5cb3f882-8ccb-42e8-acea-f36de9856a22"
      },
      "outputs": [
        {
          "name": "stdout",
          "output_type": "stream",
          "text": [
            "\n",
            "[회귀 계수(β) 가설검정]\n",
            "질문: 마력(hp)의 회귀 계수(β)가 -0.05과 유의한 차이가 있는가?\n",
            "귀무가설(H₀): β = -0.05 (hp의 회귀 계수가 -0.05과 같다)\n",
            "대립가설(H₁): β ≠ -0.05 (hp의 회귀 계수가 -0.05과 다르다)\n",
            "\n",
            "▶ hp의 회귀 계수 추정값 (β̂): -0.06823\n",
            "▶ 검정할 β 값 (β₀): -0.05\n",
            "▶ 계산된 t-값: -1.80134\n",
            "▶ p-value: 0.08171\n",
            "\n",
            "p-value = 0.08171 ≥ 0.05, 따라서 귀무가설을 기각하지 않습니다.\n",
            "즉, hp의 회귀 계수(β)는 -0.05과 유의한 차이가 있다고 볼 수 없습니다.\n"
          ]
        }
      ],
      "source": [
        "from scipy.stats import t\n",
        "\n",
        "# 검정할 β1 값 설정 (예: -0.05)\n",
        "beta1_0 = -0.05\n",
        "\n",
        "# 회귀 계수 및 표준 오차 가져오기\n",
        "beta_hp = model.params[\"hp\"]  # hp의 회귀 계수 (추정값)\n",
        "std_err_hp = model.bse[\"hp\"]  # hp의 표준 오차\n",
        "\n",
        "# t-검정 통계량 계산\n",
        "t_stat_hp = (beta_hp - beta1_0) / std_err_hp\n",
        "\n",
        "# 자유도 계산 (회귀모형의 자유도 = 샘플 수 - 독립 변수 개수 - 1)\n",
        "df = model.df_resid\n",
        "\n",
        "# p-value 계산 (양측 검정)\n",
        "p_value_hp = 2 * (1 - t.cdf(abs(t_stat_hp), df))\n",
        "\n",
        "# 유의수준 설정\n",
        "alpha = 0.05\n",
        "\n",
        "# 검정 결과 출력\n",
        "print(\"\\n[회귀 계수(β) 가설검정]\")\n",
        "print(f\"질문: 마력(hp)의 회귀 계수(β)가 {beta1_0}과 유의한 차이가 있는가?\")\n",
        "print(f\"귀무가설(H₀): β = {beta1_0} (hp의 회귀 계수가 {beta1_0}과 같다)\")\n",
        "print(f\"대립가설(H₁): β ≠ {beta1_0} (hp의 회귀 계수가 {beta1_0}과 다르다)\\n\")\n",
        "\n",
        "print(f\"▶ hp의 회귀 계수 추정값 (β̂): {beta_hp:.5f}\")\n",
        "print(f\"▶ 검정할 β 값 (β₀): {beta1_0}\")\n",
        "print(f\"▶ 계산된 t-값: {t_stat_hp:.5f}\")\n",
        "print(f\"▶ p-value: {p_value_hp:.5f}\")\n",
        "\n",
        "if p_value_hp < alpha:\n",
        "    print(f\"\\np-value = {p_value_hp:.5f} < {alpha}, 따라서 귀무가설을 기각합니다.\")\n",
        "    print(f\"즉, hp의 회귀 계수(β)는 {beta1_0}과 유의하게 다릅니다.\")\n",
        "else:\n",
        "    print(f\"\\np-value = {p_value_hp:.5f} ≥ {alpha}, 따라서 귀무가설을 기각하지 않습니다.\")\n",
        "    print(f\"즉, hp의 회귀 계수(β)는 {beta1_0}과 유의한 차이가 있다고 볼 수 없습니다.\")\n"
      ]
    },
    {
      "cell_type": "markdown",
      "metadata": {
        "id": "Y082jKdE79V4"
      },
      "source": [
        "# 2.두 모집단의 평균 차이가 유의한지 검정"
      ]
    },
    {
      "cell_type": "code",
      "execution_count": 14,
      "metadata": {
        "colab": {
          "base_uri": "https://localhost:8080/"
        },
        "id": "isS4t95V8VjZ",
        "outputId": "6fcd5698-fb9b-4612-9168-38ef3f6b48e2"
      },
      "outputs": [
        {
          "name": "stdout",
          "output_type": "stream",
          "text": [
            "\n",
            "[두 집단 평균 비교 (독립 t-검정)]\n",
            "질문: 4기통 자동차와 6기통 자동차의 평균 연비는 유의한 차이가 있는가?\n",
            "귀무가설(H₀): μ₁ = μ₂ (4기통과 6기통 자동차의 평균 연비가 같다)\n",
            "대립가설(H₁): μ₁ ≠ μ₂ (4기통과 6기통 자동차의 평균 연비가 다르다)\n",
            "\n",
            "▶ 4기통 자동차 평균 연비 (μ₁): 26.66364\n",
            "▶ 6기통 자동차 평균 연비 (μ₂): 19.74286\n",
            "▶ 계산된 t-값: 4.71906\n",
            "▶ p-value: 0.00040\n",
            "\n",
            "p-value = 0.00040 < 0.05, 따라서 귀무가설을 기각합니다.\n",
            "μ₁ = 26.66364 > μ₂ = 19.74286, 따라서 4기통 자동차가 평균적으로 연비가 더 높습니다.\n"
          ]
        }
      ],
      "source": [
        "df = sm.datasets.get_rdataset(\"mtcars\", \"datasets\").data\n",
        "import pandas as pd\n",
        "import scipy.stats as stats\n",
        "\n",
        "\n",
        "\n",
        "# 4기통(cyl == 4)과 6기통(cyl == 6) 자동차 그룹 생성\n",
        "group1 = df[df[\"cyl\"] == 4][\"mpg\"]  # 4기통 자동차의 연비\n",
        "group2 = df[df[\"cyl\"] == 6][\"mpg\"]  # 6기통 자동차의 연비\n",
        "\n",
        "# 독립 t-검정 수행\n",
        "t_stat, p_value = stats.ttest_ind(group1, group2, equal_var=False)  # 등분산 가정 X (Welch’s t-test)\n",
        "alpha = 0.05  # 유의수준 5%\n",
        "\n",
        "# 평균값 계산\n",
        "mean1, mean2 = group1.mean(), group2.mean()\n",
        "\n",
        "# 검정 결과 해석\n",
        "print(\"\\n[두 집단 평균 비교 (독립 t-검정)]\")\n",
        "print(\"질문: 4기통 자동차와 6기통 자동차의 평균 연비는 유의한 차이가 있는가?\")\n",
        "print(f\"귀무가설(H₀): μ₁ = μ₂ (4기통과 6기통 자동차의 평균 연비가 같다)\")\n",
        "print(f\"대립가설(H₁): μ₁ ≠ μ₂ (4기통과 6기통 자동차의 평균 연비가 다르다)\\n\")\n",
        "\n",
        "print(f\"▶ 4기통 자동차 평균 연비 (μ₁): {mean1:.5f}\")\n",
        "print(f\"▶ 6기통 자동차 평균 연비 (μ₂): {mean2:.5f}\")\n",
        "print(f\"▶ 계산된 t-값: {t_stat:.5f}\")\n",
        "print(f\"▶ p-value: {p_value:.5f}\")\n",
        "\n",
        "# 가설 검정 결과 출력\n",
        "if p_value < alpha:\n",
        "    print(f\"\\np-value = {p_value:.5f} < {alpha}, 따라서 귀무가설을 기각합니다.\")\n",
        "    if mean1 > mean2:\n",
        "        print(f\"μ₁ = {mean1:.5f} > μ₂ = {mean2:.5f}, 따라서 4기통 자동차가 평균적으로 연비가 더 높습니다.\")\n",
        "    else:\n",
        "        print(f\"μ₁ = {mean1:.5f} < μ₂ = {mean2:.5f}, 따라서 6기통 자동차가 평균적으로 연비가 더 높습니다.\")\n",
        "else:\n",
        "    print(f\"\\np-value = {p_value:.5f} ≥ {alpha}, 따라서 귀무가설을 기각하지 않습니다.\")\n",
        "    print(f\"즉, 4기통과 6기통 자동차의 평균 연비 차이가 유의하지 않다고 볼 수 있습니다.\")"
      ]
    },
    {
      "cell_type": "markdown",
      "metadata": {
        "id": "4tGiaqJ6OKV5"
      },
      "source": [
        "# 3.단일 집단 평균 검정"
      ]
    },
    {
      "cell_type": "code",
      "execution_count": 15,
      "metadata": {
        "colab": {
          "base_uri": "https://localhost:8080/"
        },
        "id": "mTFzHLHH6-12",
        "outputId": "6932a0c4-f495-4221-dcbf-2c43d421741f"
      },
      "outputs": [
        {
          "name": "stdout",
          "output_type": "stream",
          "text": [
            "\n",
            "[단일집단 평균 검정]\n",
            "질문: 자동차 연비(mpg)의 평균이 25보다 큰가?\n",
            "귀무가설(H₀): μ = 25 (자동차 연비의 평균이 25이다.)\n",
            "대립가설(H₁): μ > 25 (자동차 연비의 평균이 25보다 크다.)\n",
            "\n",
            "▶ 표본의 평균 연비 (μ̂): 20.091\n",
            "▶ 계산된 t-값: -4.608\n",
            "▶ 단측검정 p-value: 0.00003\n",
            "\n",
            "p-value = 0.00003 < 0.05, 따라서 귀무가설을 기각합니다.\n",
            "자동차 연비의 평균이 25보다 크다고 볼 수 있습니다.\n"
          ]
        }
      ],
      "source": [
        "import pandas as pd\n",
        "from scipy import stats\n",
        "\n",
        "df = sm.datasets.get_rdataset(\"mtcars\", \"datasets\").data\n",
        "# 가설 설정\n",
        "alpha = 0.05  # 유의수준 5%\n",
        "pop_mean = 25  # 비교 대상 평균 (예: 25 mpg)\n",
        "\n",
        "# 단일집단 t-검정 수행 (H₀: μ = 25 vs H₁: μ > 25)\n",
        "t_stat, p_value = stats.ttest_1samp(df['mpg'], popmean=pop_mean)\n",
        "\n",
        "# 단측검정이므로 p-value를 2로 나눔\n",
        "one_sided_p = p_value / 2\n",
        "\n",
        "# 평균 계산\n",
        "sample_mean = df['mpg'].mean()\n",
        "\n",
        "# 결과 출력\n",
        "print(\"\\n[단일집단 평균 검정]\")\n",
        "print(f\"질문: 자동차 연비(mpg)의 평균이 25보다 큰가?\")\n",
        "print(f\"귀무가설(H₀): μ = {pop_mean} (자동차 연비의 평균이 {pop_mean}이다.)\")\n",
        "print(f\"대립가설(H₁): μ > {pop_mean} (자동차 연비의 평균이 {pop_mean}보다 크다.)\\n\")\n",
        "\n",
        "print(f\"▶ 표본의 평균 연비 (μ̂): {sample_mean:.3f}\")\n",
        "print(f\"▶ 계산된 t-값: {t_stat:.3f}\")\n",
        "print(f\"▶ 단측검정 p-value: {one_sided_p:.5f}\")\n",
        "\n",
        "# 가설 검정 결과 해석\n",
        "if one_sided_p < alpha:\n",
        "    print(f\"\\np-value = {one_sided_p:.5f} < {alpha}, 따라서 귀무가설을 기각합니다.\")\n",
        "    print(f\"자동차 연비의 평균이 {pop_mean}보다 크다고 볼 수 있습니다.\")\n",
        "else:\n",
        "    print(f\"\\np-value = {one_sided_p:.5f} ≥ {alpha}, 따라서 귀무가설을 기각하지 않습니다.\")\n",
        "    print(f\"즉, 자동차 연비의 평균이 {pop_mean}보다 크다고 볼 충분한 증거가 없습니다.\")\n"
      ]
    },
    {
      "cell_type": "markdown",
      "metadata": {
        "id": "6aWOmO8GVY31"
      },
      "source": [
        "# 4.ANOVA 분산분석"
      ]
    },
    {
      "cell_type": "code",
      "execution_count": 16,
      "metadata": {
        "colab": {
          "base_uri": "https://localhost:8080/"
        },
        "id": "lBEI2mDqScK5",
        "outputId": "bd6ae345-3252-4eed-c170-a6bc71f51818"
      },
      "outputs": [
        {
          "name": "stdout",
          "output_type": "stream",
          "text": [
            "\n",
            "[ANOVA (일원분산분석)]\n",
            "질문: 4기통, 6기통, 8기통 자동차의 평균 연비가 유의하게 다른가?\n",
            "귀무가설(H₀): μ₁ = μ₂ = μ₃ (각 기통별 평균 연비가 같다)\n",
            "대립가설(H₁): 적어도 한 그룹의 평균이 다르다.\n",
            "\n",
            "▶ 4기통 자동차 평균 연비 (μ₁): 26.664\n",
            "▶ 6기통 자동차 평균 연비 (μ₂): 19.743\n",
            "▶ 8기통 자동차 평균 연비 (μ₃): 15.100\n",
            "▶ 계산된 F-값: 39.698\n",
            "▶ p-value: 0.00000\n",
            "\n",
            "p-value = 0.00000 < 0.05, 따라서 귀무가설을 기각합니다.\n",
            "즉, 적어도 한 그룹의 평균 연비가 다른 것으로 볼 수 있습니다.\n"
          ]
        }
      ],
      "source": [
        "import pandas as pd\n",
        "from scipy.stats import f_oneway\n",
        "\n",
        "# 가설 설정\n",
        "alpha = 0.05  # 유의수준 5%\n",
        "\n",
        "# 그룹별 연비 데이터 추출\n",
        "mpg_4cyl = df[df[\"cyl\"] == 4][\"mpg\"]\n",
        "mpg_6cyl = df[df[\"cyl\"] == 6][\"mpg\"]\n",
        "mpg_8cyl = df[df[\"cyl\"] == 8][\"mpg\"]\n",
        "\n",
        "# ANOVA(일원분산분석) 수행\n",
        "f_stat, p_value = f_oneway(mpg_4cyl, mpg_6cyl, mpg_8cyl)\n",
        "\n",
        "# 각 그룹 평균 계산\n",
        "mean_4cyl = mpg_4cyl.mean()\n",
        "mean_6cyl = mpg_6cyl.mean()\n",
        "mean_8cyl = mpg_8cyl.mean()\n",
        "\n",
        "# 결과 출력\n",
        "print(\"\\n[ANOVA (일원분산분석)]\")\n",
        "print(\"질문: 4기통, 6기통, 8기통 자동차의 평균 연비가 유의하게 다른가?\")\n",
        "print(f\"귀무가설(H₀): μ₁ = μ₂ = μ₃ (각 기통별 평균 연비가 같다)\")\n",
        "print(f\"대립가설(H₁): 적어도 한 그룹의 평균이 다르다.\\n\")\n",
        "\n",
        "print(f\"▶ 4기통 자동차 평균 연비 (μ₁): {mean_4cyl:.3f}\")\n",
        "print(f\"▶ 6기통 자동차 평균 연비 (μ₂): {mean_6cyl:.3f}\")\n",
        "print(f\"▶ 8기통 자동차 평균 연비 (μ₃): {mean_8cyl:.3f}\")\n",
        "print(f\"▶ 계산된 F-값: {f_stat:.3f}\")\n",
        "print(f\"▶ p-value: {p_value:.5f}\")\n",
        "\n",
        "# 가설 검정 결과 해석\n",
        "if p_value < alpha:\n",
        "    print(f\"\\np-value = {p_value:.5f} < {alpha}, 따라서 귀무가설을 기각합니다.\")\n",
        "    print(f\"즉, 적어도 한 그룹의 평균 연비가 다른 것으로 볼 수 있습니다.\")\n",
        "else:\n",
        "    print(f\"\\np-value = {p_value:.5f} ≥ {alpha}, 따라서 귀무가설을 기각하지 않습니다.\")\n",
        "    print(f\"즉, 4기통, 6기통, 8기통 자동차의 평균 연비 차이가 유의하지 않다고 볼 수 있습니다.\")\n"
      ]
    },
    {
      "cell_type": "markdown",
      "metadata": {
        "id": "pwlMxM1DgTk-"
      },
      "source": [
        "# 5.상관관계 분석"
      ]
    },
    {
      "cell_type": "code",
      "execution_count": 17,
      "metadata": {
        "colab": {
          "base_uri": "https://localhost:8080/"
        },
        "id": "7zlQKFc9gV88",
        "outputId": "a68e1d24-efdb-45e6-b19b-187924898dff"
      },
      "outputs": [
        {
          "name": "stdout",
          "output_type": "stream",
          "text": [
            "                    hp   mpg\n",
            "rownames                    \n",
            "Mazda RX4          110  21.0\n",
            "Mazda RX4 Wag      110  21.0\n",
            "Datsun 710          93  22.8\n",
            "Hornet 4 Drive     110  21.4\n",
            "Hornet Sportabout  175  18.7\n",
            "\n",
            "[상관 분석 결과]\n",
            "질문: 마력(hp)과 연비(mpg)의 상관계수는 -0.7인가?\n",
            "귀무가설(H₀): ρ = -0.7 (hp와 mpg의 상관계수가 -0.7이다)\n",
            "대립가설(H₁): ρ ≠ -0.7 (hp와 mpg의 상관계수가 -0.7가 아니다)\n",
            "\n",
            "▶ 계산된 상관계수(ρ̂): -0.77617\n",
            "▶ p-value: 0.00000\n",
            "\n",
            "p-value = 0.00000 < 0.05, 따라서 귀무가설을 기각합니다.\n",
            "즉, hp와 mpg의 상관계수는 -0.7과 유의하게 다릅니다.\n"
          ]
        }
      ],
      "source": [
        "from scipy.stats import pearsonr\n",
        "\n",
        "# 데이터가 제대로 로드되었는지 확인\n",
        "print(df[[\"hp\", \"mpg\"]].head())\n",
        "\n",
        "# 귀무가설(H₀): ρ = 0 (hp와 mpg는 상관이 없다)\n",
        "# 대립가설(H₁): ρ = -0.7 (hp와 mpg의 상관계수는 -0.7이다)\n",
        "rho_0 = -0.7\n",
        "\n",
        "# Pearson 상관계수 계산\n",
        "corr, p_value = pearsonr(df[\"hp\"], df[\"mpg\"])\n",
        "\n",
        "alpha = 0.05  # 유의수준 5%\n",
        "\n",
        "print(\"\\n[상관 분석 결과]\")\n",
        "print(\"질문: 마력(hp)과 연비(mpg)의 상관계수는 -0.7인가?\")\n",
        "print(f\"귀무가설(H₀): ρ = {rho_0} (hp와 mpg의 상관계수가 {rho_0}이다)\")\n",
        "print(f\"대립가설(H₁): ρ ≠ {rho_0} (hp와 mpg의 상관계수가 {rho_0}가 아니다)\\n\")\n",
        "\n",
        "print(f\"▶ 계산된 상관계수(ρ̂): {corr:.5f}\")\n",
        "print(f\"▶ p-value: {p_value:.5f}\")\n",
        "\n",
        "if p_value < alpha:\n",
        "    print(f\"\\np-value = {p_value:.5f} < {alpha}, 따라서 귀무가설을 기각합니다.\")\n",
        "    print(f\"즉, hp와 mpg의 상관계수는 {rho_0}과 유의하게 다릅니다.\")\n",
        "else:\n",
        "    print(f\"\\np-value = {p_value:.5f} ≥ {alpha}, 따라서 귀무가설을 기각하지 않습니다.\")\n",
        "    print(f\"즉, hp와 mpg의 상관계수가 {rho_0}과 유의하게 다르다고 볼 수 없습니다.\")\n"
      ]
    },
    {
      "cell_type": "markdown",
      "metadata": {
        "id": "E_b-Uhz9mMDB"
      },
      "source": [
        "# + 새 데이터셋"
      ]
    },
    {
      "cell_type": "code",
      "execution_count": 11,
      "metadata": {
        "colab": {
          "base_uri": "https://localhost:8080/"
        },
        "id": "CJy3ObUymOPD",
        "outputId": "970f72f2-25fd-485b-8605-4c32076d150f"
      },
      "outputs": [
        {
          "name": "stdout",
          "output_type": "stream",
          "text": [
            "   age          workclass  fnlwgt   education  education-num  \\\n",
            "0   39          State-gov   77516   Bachelors             13   \n",
            "1   50   Self-emp-not-inc   83311   Bachelors             13   \n",
            "2   38            Private  215646     HS-grad              9   \n",
            "3   53            Private  234721        11th              7   \n",
            "4   28            Private  338409   Bachelors             13   \n",
            "\n",
            "        marital-status          occupation    relationship    race      sex  \\\n",
            "0        Never-married        Adm-clerical   Not-in-family   White     Male   \n",
            "1   Married-civ-spouse     Exec-managerial         Husband   White     Male   \n",
            "2             Divorced   Handlers-cleaners   Not-in-family   White     Male   \n",
            "3   Married-civ-spouse   Handlers-cleaners         Husband   Black     Male   \n",
            "4   Married-civ-spouse      Prof-specialty            Wife   Black   Female   \n",
            "\n",
            "   capital-gain  capital-loss  hours-per-week  native-country  income  \n",
            "0          2174             0              40   United-States   <=50K  \n",
            "1             0             0              13   United-States   <=50K  \n",
            "2             0             0              40   United-States   <=50K  \n",
            "3             0             0              40   United-States   <=50K  \n",
            "4             0             0              40            Cuba   <=50K  \n"
          ]
        }
      ],
      "source": [
        "import pandas as pd\n",
        "adult = pd.read_csv('https://archive.ics.uci.edu/ml/machine-learning-databases/adult/adult.data',\n",
        "                    header=None,\n",
        "                    names=[\"age\", \"workclass\", \"fnlwgt\", \"education\", \"education-num\", \"marital-status\", \"occupation\", \"relationship\", \"race\", \"sex\", \"capital-gain\", \"capital-loss\", \"hours-per-week\", \"native-country\", \"income\"])\n",
        "print(adult.head())\n"
      ]
    }
  ],
  "metadata": {
    "colab": {
      "provenance": [],
      "toc_visible": true
    },
    "kernelspec": {
      "display_name": "Python 3",
      "name": "python3"
    },
    "language_info": {
      "codemirror_mode": {
        "name": "ipython",
        "version": 3
      },
      "file_extension": ".py",
      "mimetype": "text/x-python",
      "name": "python",
      "nbconvert_exporter": "python",
      "pygments_lexer": "ipython3",
      "version": "3.10.11"
    }
  },
  "nbformat": 4,
  "nbformat_minor": 0
}
